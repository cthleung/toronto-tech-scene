{
 "cells": [
  {
   "cell_type": "markdown",
   "metadata": {},
   "source": [
    "### Communitech:\n",
    "\n",
    "[ServiceNow](https://jobs.smartrecruiters.com/ServiceNow/743999846810062)  \n",
    "[Fresnel](https://fresnelsoftware.bamboohr.com/jobs/view.php?id=159)  \n",
    "[Blaise Transit](https://blaisetransit.freshteam.com/jobs/WxoMswiheVKj/full-stack-developer-intern-fall-2022-remote-canada)  \n",
    "[Awake Labs](https://www.awakelabs.com/join-our-team?job=4)  \n",
    "[Deloitte](https://careers.deloitte.ca/job/Consulting-Industry-Solutions,-Cloud-&-Systems-Engineering-Co-opIntern-Multiple-Locations/868203800/)  "
   ]
  },
  {
   "cell_type": "markdown",
   "metadata": {},
   "source": [
    "[Airtable](https://airtable.com/shrbTvYLgJX1uL0X7/tbl9k15IzFwGdFzTd?backgroundColor=orange&viewControls=on)"
   ]
  }
 ],
 "metadata": {
  "kernelspec": {
   "display_name": "Python 3.10.5 64-bit",
   "language": "python",
   "name": "python3"
  },
  "language_info": {
   "codemirror_mode": {
    "name": "ipython",
    "version": 3
   },
   "file_extension": ".py",
   "mimetype": "text/x-python",
   "name": "python",
   "nbconvert_exporter": "python",
   "pygments_lexer": "ipython3",
   "version": "3.10.5"
  },
  "orig_nbformat": 4,
  "vscode": {
   "interpreter": {
    "hash": "aee8b7b246df8f9039afb4144a1f6fd8d2ca17a180786b69acc140d282b71a49"
   }
  }
 },
 "nbformat": 4,
 "nbformat_minor": 2
}
